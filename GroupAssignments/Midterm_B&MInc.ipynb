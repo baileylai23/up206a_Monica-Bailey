{
 "cells": [
  {
   "cell_type": "markdown",
   "id": "51411b5d-56f4-4a4a-8267-6416c2781fd0",
   "metadata": {},
   "source": [
    "# Midterm B&M, Inc.\n",
    "\n",
    "## Midterms (20% of your final grade)\n",
    "There are three deliverables for the mid-term project:\n",
    "* 1. Update your project proposal and resubmit. Follow the same guidelines as posted in your Group Assignment #1.\n",
    "* 2. Create a new Jupyter Notebook. Make sure to mix in markdown cells and code cells so that the notebook tells a cohesive narrative. Your notebook should:\n",
    "  * state the research question\n",
    "  * identify data sources\n",
    "  * conduct data exploration\n",
    "  * data analysis\n",
    "    * produce at least three charts\n",
    "    * one chart can be a \"bad\" chart, with a second chart that improves upon it\n",
    "  * map visualization\n",
    "    * produce at least one static map and one interactive map\n",
    "    * the maps must have at least one data overlay\n",
    "  * in the last cell of the notebook, list each group member and describe the division of labor, and what each member's contribution was to the project\n",
    "* 3. Present your project to the class"
   ]
  },
  {
   "cell_type": "code",
   "execution_count": null,
   "id": "dc043197-e2f5-46eb-beed-f80d279893b0",
   "metadata": {},
   "outputs": [],
   "source": []
  }
 ],
 "metadata": {
  "kernelspec": {
   "display_name": "Python 3 (ipykernel)",
   "language": "python",
   "name": "python3"
  },
  "language_info": {
   "codemirror_mode": {
    "name": "ipython",
    "version": 3
   },
   "file_extension": ".py",
   "mimetype": "text/x-python",
   "name": "python",
   "nbconvert_exporter": "python",
   "pygments_lexer": "ipython3",
   "version": "3.9.6"
  }
 },
 "nbformat": 4,
 "nbformat_minor": 5
}
